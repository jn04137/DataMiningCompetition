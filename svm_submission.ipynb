{
 "cells": [
  {
   "cell_type": "code",
   "execution_count": 1,
   "metadata": {},
   "outputs": [
    {
     "data": {
      "text/plain": [
       "array([ 65.,  60.,  27., ..., 259., 118., 140.])"
      ]
     },
     "execution_count": 1,
     "metadata": {},
     "output_type": "execute_result"
    }
   ],
   "source": [
    "import pandas as pd\n",
    "df = pd.read_csv('train.csv')\n",
    "\n",
    "y = df.iloc[:, 43].values\n",
    "y\n"
   ]
  },
  {
   "cell_type": "code",
   "execution_count": 2,
   "metadata": {},
   "outputs": [
    {
     "data": {
      "text/plain": [
       "Index(['id', 'name', 'summary', 'space', 'description', 'experiences_offered',\n",
       "       'neighborhood_overview', 'notes', 'transit', 'access', 'interaction',\n",
       "       'house_rules', 'host_id', 'host_name', 'host_since', 'host_location',\n",
       "       'host_about', 'host_response_time', 'host_response_rate',\n",
       "       'host_acceptance_rate', 'host_is_superhost', 'host_neighbourhood',\n",
       "       'host_listings_count', 'host_verifications', 'host_has_profile_pic',\n",
       "       'host_identity_verified', 'neighbourhood_cleansed',\n",
       "       'neighbourhood_group_cleansed', 'city', 'state', 'zipcode', 'market',\n",
       "       'country_code', 'country', 'property_type', 'room_type', 'accommodates',\n",
       "       'bathrooms', 'bedrooms', 'beds', 'bed_type', 'amenities', 'square_feet',\n",
       "       'price', 'guests_included', 'extra_people', 'minimum_nights',\n",
       "       'maximum_nights', 'number_of_reviews', 'first_review', 'last_review',\n",
       "       'review_scores_rating', 'review_scores_accuracy',\n",
       "       'review_scores_cleanliness', 'review_scores_checkin',\n",
       "       'review_scores_communication', 'review_scores_location',\n",
       "       'review_scores_value', 'instant_bookable', 'is_business_travel_ready',\n",
       "       'cancellation_policy', 'require_guest_profile_picture',\n",
       "       'require_guest_phone_verification', 'calculated_host_listings_count',\n",
       "       'reviews_per_month'],\n",
       "      dtype='object')"
      ]
     },
     "execution_count": 2,
     "metadata": {},
     "output_type": "execute_result"
    }
   ],
   "source": [
    "df.columns"
   ]
  },
  {
   "cell_type": "code",
   "execution_count": 3,
   "metadata": {},
   "outputs": [
    {
     "name": "stdout",
     "output_type": "stream",
     "text": [
      "Stored variables and their in-db values:\n"
     ]
    },
    {
     "data": {
      "text/plain": [
       "Index(['host_location', 'host_response_time', 'host_response_rate',\n",
       "       'host_is_superhost', 'host_listings_count', 'host_has_profile_pic',\n",
       "       'host_identity_verified', 'neighbourhood_cleansed',\n",
       "       'neighbourhood_group_cleansed', 'city', 'state', 'zipcode', 'market',\n",
       "       'country_code', 'country', 'property_type', 'room_type', 'accommodates',\n",
       "       'bathrooms', 'bedrooms', 'beds', 'bed_type', 'guests_included',\n",
       "       'extra_people', 'minimum_nights', 'maximum_nights', 'number_of_reviews',\n",
       "       'review_scores_rating', 'review_scores_accuracy',\n",
       "       'review_scores_cleanliness', 'review_scores_checkin',\n",
       "       'review_scores_communication', 'review_scores_value',\n",
       "       'instant_bookable', 'is_business_travel_ready', 'cancellation_policy',\n",
       "       'require_guest_profile_picture', 'require_guest_phone_verification',\n",
       "       'calculated_host_listings_count', 'reviews_per_month'],\n",
       "      dtype='object')"
      ]
     },
     "execution_count": 3,
     "metadata": {},
     "output_type": "execute_result"
    }
   ],
   "source": [
    "%store\n",
    "filteredXs = df[[\n",
    "  'host_location','host_response_time','host_response_rate', 'host_is_superhost', 'host_listings_count', \n",
    "  'host_has_profile_pic', 'host_identity_verified', 'neighbourhood_cleansed', 'neighbourhood_group_cleansed',\n",
    "  'city', 'state', 'zipcode', 'market', 'country_code', 'country', 'property_type', 'room_type', 'accommodates',\n",
    "  'bathrooms', 'bedrooms', 'beds', 'bed_type', 'guests_included', 'extra_people', 'minimum_nights', 'maximum_nights',\n",
    "  'number_of_reviews', 'review_scores_rating', 'review_scores_accuracy', 'review_scores_cleanliness', \n",
    "  'review_scores_checkin', 'review_scores_communication','review_scores_value', 'instant_bookable', \n",
    "  'is_business_travel_ready', 'cancellation_policy', 'require_guest_profile_picture', 'require_guest_phone_verification', \n",
    "  'calculated_host_listings_count', 'reviews_per_month'\n",
    "  ]]\n",
    "\n",
    "filteredXs.columns"
   ]
  },
  {
   "cell_type": "code",
   "execution_count": null,
   "metadata": {},
   "outputs": [],
   "source": [
    "%store\n",
    "filteredXs.head(10)"
   ]
  },
  {
   "cell_type": "code",
   "execution_count": 2,
   "metadata": {},
   "outputs": [
    {
     "name": "stdout",
     "output_type": "stream",
     "text": [
      "5\n",
      "18058 18058\n"
     ]
    }
   ],
   "source": [
    "from math import isnan\n",
    "\n",
    "def to_float(s):\n",
    "    try:\n",
    "        ret = float(s)\n",
    "    except:\n",
    "        ret = -1\n",
    "    if isnan(ret):\n",
    "        ret = -1\n",
    "    return ret\n",
    "\n",
    "def to_float_avg(s, name_of_col):\n",
    "    avg = df[name_of_col].mean()\n",
    "    try:\n",
    "        ret = float(s)\n",
    "    except:\n",
    "        ret = avg\n",
    "    if isnan(ret):\n",
    "        ret = avg\n",
    "    return ret\n",
    "\n",
    "def to_int(s):\n",
    "    try:\n",
    "        ret = int(s)\n",
    "    except:\n",
    "        ret = -1\n",
    "    return ret\n",
    "\n",
    "def to_int_avg(s, name_of_col):\n",
    "    avg = df[name_of_col].mean()\n",
    "    try:\n",
    "        ret = int(s)\n",
    "    except:\n",
    "        ret = avg\n",
    "    return ret\n",
    "\n",
    "categories = [x for x in list(set(df['neighbourhood_group_cleansed'])) if type(x) is str]\n",
    "state_categories = [x for x in list(set(df['state'])) if type(x) is str]\n",
    "state_categories = [x for x in list(set(df['state'])) if type(x) is str]\n",
    "room_categories = [x for x in list(set(df['room_type'])) if type(x) is str]\n",
    "super_host_categories = [x for x in list(set(df['host_is_superhost'])) if type(x) is str]\n",
    "bed_type_categories = [x for x in list(set(df['bed_type'])) if type(x) is str]\n",
    "cancellation_policy_categories = [x for x in list(set(df['cancellation_policy'])) if type(x) is str]\n",
    "property_type_categories = [x for x in list(set(df['property_type'])) if type(x) is str]\n",
    "print(len(categories))\n",
    "\n",
    "def create_feature(row):\n",
    "    guest_num = to_int(row.guests_included)\n",
    "    guest_cap = to_float(row.extra_people)\n",
    "    bedrooms = to_int(row.bedrooms)\n",
    "    bathrooms = to_int(row.bathrooms)\n",
    "    beds = to_int(row.beds)\n",
    "    review = to_float(row.review_scores_rating)\n",
    "    review_scores_location = to_float_avg(row.review_scores_location, 'review_scores_location')\n",
    "    cleanliness_review = to_int(row.review_scores_cleanliness)\n",
    "    number_of_reviews = to_int_avg(row.number_of_reviews, 'number_of_reviews')\n",
    "    host_listings = to_int(row.calculated_host_listings_count)\n",
    "    accommodates = to_int(row.accommodates)\n",
    "    reviews_per_month = to_float_avg(row.reviews_per_month, 'reviews_per_month')\n",
    "    one_hot = [int(row.neighbourhood_group_cleansed == category) for category in categories]\n",
    "    two_hot = [int(row.state == state_category) for state_category in state_categories]\n",
    "    three_hot = [int(row.room_type == room_category) for room_category in room_categories]\n",
    "    four_hot = [int(row.host_is_superhost == super_host_category) for super_host_category in super_host_categories]\n",
    "    five_hot = [int(row.bed_type == bed_type_category) for bed_type_category in bed_type_categories]\n",
    "    six_hot = [int(row.cancellation_policy == cancelation_policy_category) for cancelation_policy_category in cancellation_policy_categories]\n",
    "    seven_hot = [int(row.property_type == property_type_category) for property_type_category in property_type_categories]\n",
    "    \n",
    "    return [guest_num, guest_cap, accommodates, bedrooms, bathrooms, review, beds, review_scores_location, reviews_per_month, number_of_reviews] + one_hot + three_hot + four_hot + five_hot + seven_hot\n",
    "\n",
    "train_X, train_y = [], []\n",
    "for (idx, row) in df.iterrows():\n",
    "    price = to_float_avg(row.price, 'price')\n",
    "    feature = create_feature(row)\n",
    "    if feature[3] == -1:\n",
    "        continue\n",
    "    if feature[2] == -1:\n",
    "        continue\n",
    "    if feature[4] == -1:\n",
    "        continue\n",
    "    if feature[6] == -1:\n",
    "        continue\n",
    "    if feature[5] == -1:\n",
    "        continue\n",
    "\n",
    "    train_X.append(feature)\n",
    "    train_y.append(price)\n",
    "\n",
    "print(len(train_X), len(train_y))"
   ]
  },
  {
   "cell_type": "code",
   "execution_count": 4,
   "metadata": {},
   "outputs": [],
   "source": [
    "from sklearn.svm import SVR\n",
    "from sklearn.pipeline import make_pipeline\n",
    "from sklearn.preprocessing import StandardScaler\n",
    "from sklearn.model_selection import train_test_split\n",
    "from sklearn.model_selection import cross_val_score\n",
    "import numpy as np\n",
    "import matplotlib.pyplot as plt\n"
   ]
  },
  {
   "cell_type": "code",
   "execution_count": null,
   "metadata": {},
   "outputs": [],
   "source": [
    "#scaler_X = StandardScaler().fit(train_X)\n",
    "#train_X = scaler_X.transform(train_X)\n",
    "\n",
    "# regr = SVR(C=5.5, kernel='poly', max_iter=50000)\n",
    "# print(np.mean(cross_val_score(regr, train_X, train_y, cv=5, n_jobs=6)))\n",
    "\n",
    "c_values = []\n",
    "scores = []\n",
    "\n",
    "for i in np.linspace(2.0, 6.0, 30):\n",
    "  mean = np.mean(cross_val_score(SVR(C=i, kernel='poly', max_iter=500000), train_X, train_y, cv=5, n_jobs=8))\n",
    "  c_values.append(i)\n",
    "  scores.append(mean)\n",
    "\n",
    "plt.plot(c_values, scores)\n",
    "plt.show()\n",
    "\n",
    "\n",
    "\n",
    "#for i in range(1, 50):\n",
    "#  score = cross_val_score(MLPRegressor(activation='relu', alpha=1e-05, hidden_layer_sizes=(i,), random_state=1, max_iter=300), train_X, train_y, cv=5, n_jobs=4)\n",
    "#  if(np.mean(score) > bestAvg):\n",
    "#    bestAvg = np.mean(score)\n",
    "#    bestSize = i\n"
   ]
  },
  {
   "cell_type": "code",
   "execution_count": 5,
   "metadata": {},
   "outputs": [
    {
     "name": "stdout",
     "output_type": "stream",
     "text": [
      "0.3670029512583457\n"
     ]
    }
   ],
   "source": [
    "scaler_X = StandardScaler().fit(train_X)\n",
    "train_X = scaler_X.transform(train_X)\n",
    "\n",
    "regr = SVR(C=5.0, kernel='poly', degree=3, max_iter=500000, epsilon=0.2)\n",
    "print(np.mean(cross_val_score(regr, train_X, train_y, cv=5, n_jobs=8)))"
   ]
  },
  {
   "cell_type": "code",
   "execution_count": 150,
   "metadata": {},
   "outputs": [
    {
     "name": "stdout",
     "output_type": "stream",
     "text": [
      "0.4122673401447677\n"
     ]
    }
   ],
   "source": [
    "scaler_X = StandardScaler().fit(train_X)\n",
    "train_X = scaler_X.transform(train_X)\n",
    "\n",
    "regr = SVR(C=5.0, kernel='poly', degree=3, max_iter=500000)\n",
    "print(np.mean(cross_val_score(regr, train_X, train_y, cv=5, n_jobs=8)))"
   ]
  },
  {
   "cell_type": "code",
   "execution_count": 44,
   "metadata": {},
   "outputs": [
    {
     "name": "stderr",
     "output_type": "stream",
     "text": [
      "/home/wthunder/anaconda3/lib/python3.9/site-packages/sklearn/svm/_base.py:255: ConvergenceWarning: Solver terminated early (max_iter=10000).  Consider pre-processing your data with StandardScaler or MinMaxScaler.\n",
      "  warnings.warn('Solver terminated early (max_iter=%i).'\n"
     ]
    },
    {
     "data": {
      "text/plain": [
       "Pipeline(steps=[('standardscaler', StandardScaler()),\n",
       "                ('svr', SVR(epsilon=0.2, max_iter=10000))])"
      ]
     },
     "execution_count": 44,
     "metadata": {},
     "output_type": "execute_result"
    }
   ],
   "source": [
    "regr.fit(train_X, train_y)"
   ]
  },
  {
   "cell_type": "code",
   "execution_count": 308,
   "metadata": {},
   "outputs": [],
   "source": [
    "test_df = pd.read_csv('test.csv')\n",
    "test_ids, test_X = [], []\n",
    "for (idx, row) in test_df.iterrows():\n",
    "  feature = create_feature(row)\n",
    "  test_ids.append(row.id)\n",
    "  test_X.append(feature)\n",
    "test_y = regr.predict(test_X)\n",
    "\n",
    "\n",
    "output_df = pd.DataFrame()\n",
    "output_df['Id'] = test_ids\n",
    "output_df['Predicted'] = test_y\n",
    "output_df.to_csv('mlpregressor_prediction.csv', index=False)\n",
    "\n"
   ]
  },
  {
   "cell_type": "code",
   "execution_count": 279,
   "metadata": {},
   "outputs": [
    {
     "name": "stdout",
     "output_type": "stream",
     "text": [
      "0.48313770821271473\n"
     ]
    }
   ],
   "source": [
    "# Setting up the neural net classifier\n",
    "regr = MLPRegressor(activation='logistic', alpha=0.0001, hidden_layer_sizes=(80, 50), random_state=1, max_iter=3000)\n",
    "\n",
    "print(np.mean(cross_val_score(regr, train_X, train_y, cv=5, n_jobs=6)))\n",
    "\n",
    "bestSize = 0\n",
    "bestAvg = 0\n",
    "\n",
    "#for i in range(1, 50):\n",
    "#  score = cross_val_score(MLPRegressor(activation='relu', alpha=1e-05, hidden_layer_sizes=(i,), random_state=1, max_iter=300), train_X, train_y, cv=5, n_jobs=4)\n",
    "#  if(np.mean(score) > bestAvg):\n",
    "#    bestAvg = np.mean(score)\n",
    "#    bestSize = i\n"
   ]
  }
 ],
 "metadata": {
  "interpreter": {
   "hash": "b8c7240f1d94b58b7ad391c7d1cda0d4e35465f6e237b27e5c4b4739ef98f4ab"
  },
  "kernelspec": {
   "display_name": "Python 3.9.7 ('base')",
   "language": "python",
   "name": "python3"
  },
  "language_info": {
   "codemirror_mode": {
    "name": "ipython",
    "version": 3
   },
   "file_extension": ".py",
   "mimetype": "text/x-python",
   "name": "python",
   "nbconvert_exporter": "python",
   "pygments_lexer": "ipython3",
   "version": "3.9.7"
  },
  "orig_nbformat": 4
 },
 "nbformat": 4,
 "nbformat_minor": 2
}
