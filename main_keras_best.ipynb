{
 "cells": [
  {
   "cell_type": "code",
   "execution_count": 2,
   "metadata": {},
   "outputs": [
    {
     "name": "stdout",
     "output_type": "stream",
     "text": [
      "[0        33\n",
      "1        19\n",
      "2        22\n",
      "3        34\n",
      "4        11\n",
      "         ..\n",
      "23472    25\n",
      "23473    23\n",
      "23474    16\n",
      "23475    10\n",
      "23476    19\n",
      "Name: amenities, Length: 23477, dtype: int64]\n"
     ]
    }
   ],
   "source": [
    "import pandas as pd\n",
    "\n",
    "def set_parser(data):\n",
    "  try:\n",
    "    j1 = len(data.strip('*}*{').split(','))\n",
    "    return j1\n",
    "  except:\n",
    "    return 'problem'\n",
    "\n",
    "df = pd.read_csv('train.csv', converters={'amenities':set_parser}, header=0)\n",
    "\n",
    "y = df[['price']]\n",
    "y.columns\n",
    "\n",
    "amenity_vals = [df['amenities']]\n",
    "print(amenity_vals)"
   ]
  },
  {
   "cell_type": "code",
   "execution_count": 3,
   "metadata": {},
   "outputs": [
    {
     "name": "stdout",
     "output_type": "stream",
     "text": [
      "5\n",
      "23477 23477\n"
     ]
    }
   ],
   "source": [
    "import json\n",
    "from math import isnan\n",
    "\n",
    "def to_float(s):\n",
    "    try:\n",
    "        ret = float(s)\n",
    "    except:\n",
    "        ret = -1\n",
    "    if isnan(ret):\n",
    "        ret = -1\n",
    "    return ret\n",
    "\n",
    "def to_float_avg(s, name_of_col, data_frame):\n",
    "    avg = data_frame[name_of_col].mean()\n",
    "    try:\n",
    "        ret = float(s)\n",
    "    except:\n",
    "        ret = avg\n",
    "    if isnan(ret):\n",
    "        ret = avg\n",
    "    return ret\n",
    "\n",
    "def to_int(s):\n",
    "    try:\n",
    "        ret = int(s)\n",
    "    except:\n",
    "        ret = -1\n",
    "    return ret\n",
    "\n",
    "def to_int_avg(s, name_of_col, data_frame):\n",
    "    avg = data_frame[name_of_col].mean()\n",
    "    try:\n",
    "        ret = int(s)\n",
    "    except:\n",
    "        ret = avg\n",
    "    return ret\n",
    "\n",
    "def json_parser(data):\n",
    "    j1 = json.loads(data)\n",
    "    return j1\n",
    "\n",
    "categories = [x for x in list(set(df['neighbourhood_group_cleansed'])) if type(x) is str]\n",
    "state_categories = [x for x in list(set(df['state'])) if type(x) is str]\n",
    "state_categories = [x for x in list(set(df['state'])) if type(x) is str]\n",
    "room_categories = [x for x in list(set(df['room_type'])) if type(x) is str]\n",
    "super_host_categories = [x for x in list(set(df['host_is_superhost'])) if type(x) is str]\n",
    "bed_type_categories = [x for x in list(set(df['bed_type'])) if type(x) is str]\n",
    "cancellation_policy_categories = [x for x in list(set(df['cancellation_policy'])) if type(x) is str]\n",
    "property_type_categories = [x for x in list(set(df['property_type'])) if type(x) is str]\n",
    "instant_bookable_categories = [x for x in list(set(df['instant_bookable'])) if type(x) is str]\n",
    "instant_bookable_categories = [x for x in list(set(df['instant_bookable'])) if type(x) is str]\n",
    "is_business_travel_categories = [x for x in list(set(df['is_business_travel_ready'])) if type(x) is str]\n",
    "host_verification_categories = [x for x in list(set(df['host_identity_verified'])) if type(x) is str]\n",
    "print(len(categories))\n",
    "\n",
    "def create_feature(row, data_frame):\n",
    "    guest_num = to_int(row.guests_included)\n",
    "    guest_cap = to_float(row.extra_people)\n",
    "    bedrooms = to_int(row.bedrooms)\n",
    "    bathrooms = to_float(row.bathrooms)\n",
    "    beds = to_int(row.beds)\n",
    "    review = to_float(row.review_scores_rating)\n",
    "    review_scores_location = to_float(row.review_scores_location)\n",
    "    cleanliness_review = to_int(row.review_scores_cleanliness)\n",
    "    number_of_reviews = to_int(row.number_of_reviews)\n",
    "    host_listings = to_int(row.calculated_host_listings_count)\n",
    "    accommodates = to_int(row.accommodates)\n",
    "    amenities = to_int(row.amenities)\n",
    "    minimum_nights = to_int(row.minimum_nights)\n",
    "    reviews_per_month = to_float(row.reviews_per_month)\n",
    "    reviews_value = to_float(row.review_scores_value)\n",
    "    review_accuracy = to_float(row.review_scores_accuracy)\n",
    "    review_checkin = to_float(row.review_scores_checkin)\n",
    "    review_communication = to_float(row.review_scores_communication)\n",
    "    one_hot = [int(row.neighbourhood_group_cleansed == category) for category in categories]\n",
    "    two_hot = [int(row.state == state_category) for state_category in state_categories]\n",
    "    three_hot = [int(row.room_type == room_category) for room_category in room_categories]\n",
    "    four_hot = [int(row.host_is_superhost == super_host_category) for super_host_category in super_host_categories]\n",
    "    five_hot = [int(row.bed_type == bed_type_category) for bed_type_category in bed_type_categories]\n",
    "    six_hot = [int(row.cancellation_policy == cancelation_policy_category) for cancelation_policy_category in cancellation_policy_categories]\n",
    "    seven_hot = [int(row.property_type == property_type_category) for property_type_category in property_type_categories]\n",
    "    eight_hot = [int(row.instant_bookable == instant_bookable_category) for instant_bookable_category in instant_bookable_categories]\n",
    "    nine_hot = [int(row.is_business_travel_ready == is_business_travel_category) for is_business_travel_category in is_business_travel_categories]\n",
    "    ten_hot = [int(row.host_identity_verified == host_identity_verified_category) for host_identity_verified_category in host_verification_categories]\n",
    "    \n",
    "    return [\n",
    "        guest_num, \n",
    "        guest_cap, \n",
    "        bathrooms,\n",
    "        accommodates, \n",
    "        beds, \n",
    "        minimum_nights,\n",
    "        bedrooms,\n",
    "        review, \n",
    "        number_of_reviews, \n",
    "        host_listings,\n",
    "        review_scores_location,\n",
    "        reviews_per_month, \n",
    "        reviews_value, \n",
    "        cleanliness_review,\n",
    "        review_accuracy,\n",
    "        review_checkin,\n",
    "        amenities\n",
    "        ] + one_hot + three_hot + four_hot + seven_hot + eight_hot + nine_hot + ten_hot\n",
    "\n",
    "\n",
    "train_X, train_y = [], []\n",
    "\n",
    "for (idx, row) in df.iterrows():\n",
    "    price = to_float(row.price)\n",
    "    feature = create_feature(row, df)\n",
    "    #if row.accommodates == -1:\n",
    "    #    continue\n",
    "    #elif row.room_type == -1:\n",
    "    #    continue\n",
    "\n",
    "    train_X.append(feature)\n",
    "    train_y.append(price)\n",
    "\n",
    "print(len(train_X), len(train_y))"
   ]
  },
  {
   "cell_type": "code",
   "execution_count": 4,
   "metadata": {},
   "outputs": [],
   "source": [
    "from sklearn.preprocessing import StandardScaler\n",
    "from sklearn.preprocessing import OneHotEncoder\n",
    "\n",
    "from sklearn.model_selection import cross_val_score\n",
    "import numpy as np\n",
    "\n",
    "#enc = OneHotEncoder()\n",
    "#print(amenity_vals)\n",
    "#enc.fit(amenity_vals)\n",
    "#amenity_encoded = enc.transfrom(amenity_vals)\n",
    "#print(amenity_encoded.to_array())"
   ]
  },
  {
   "cell_type": "code",
   "execution_count": 5,
   "metadata": {},
   "outputs": [
    {
     "name": "stderr",
     "output_type": "stream",
     "text": [
      "2022-04-13 17:15:51.871759: I tensorflow/stream_executor/platform/default/dso_loader.cc:49] Successfully opened dynamic library libcudart.so.10.1\n"
     ]
    },
    {
     "name": "stdout",
     "output_type": "stream",
     "text": [
      "1 Physical GPUs, 1 Logical GPUs\n"
     ]
    },
    {
     "name": "stderr",
     "output_type": "stream",
     "text": [
      "2022-04-13 17:15:52.461588: I tensorflow/compiler/jit/xla_cpu_device.cc:41] Not creating XLA devices, tf_xla_enable_xla_devices not set\n",
      "2022-04-13 17:15:52.462035: I tensorflow/stream_executor/platform/default/dso_loader.cc:49] Successfully opened dynamic library libcuda.so.1\n",
      "2022-04-13 17:15:52.484340: I tensorflow/stream_executor/cuda/cuda_gpu_executor.cc:941] successful NUMA node read from SysFS had negative value (-1), but there must be at least one NUMA node, so returning NUMA node zero\n",
      "2022-04-13 17:15:52.484421: I tensorflow/core/common_runtime/gpu/gpu_device.cc:1720] Found device 0 with properties: \n",
      "pciBusID: 0000:01:00.0 name: NVIDIA GeForce RTX 2080 Ti computeCapability: 7.5\n",
      "coreClock: 1.65GHz coreCount: 68 deviceMemorySize: 10.76GiB deviceMemoryBandwidth: 573.69GiB/s\n",
      "2022-04-13 17:15:52.484438: I tensorflow/stream_executor/platform/default/dso_loader.cc:49] Successfully opened dynamic library libcudart.so.10.1\n",
      "2022-04-13 17:15:52.485387: I tensorflow/stream_executor/platform/default/dso_loader.cc:49] Successfully opened dynamic library libcublas.so.10\n",
      "2022-04-13 17:15:52.485415: I tensorflow/stream_executor/platform/default/dso_loader.cc:49] Successfully opened dynamic library libcublasLt.so.10\n",
      "2022-04-13 17:15:52.486285: I tensorflow/stream_executor/platform/default/dso_loader.cc:49] Successfully opened dynamic library libcufft.so.10\n",
      "2022-04-13 17:15:52.486442: I tensorflow/stream_executor/platform/default/dso_loader.cc:49] Successfully opened dynamic library libcurand.so.10\n",
      "2022-04-13 17:15:52.487386: I tensorflow/stream_executor/platform/default/dso_loader.cc:49] Successfully opened dynamic library libcusolver.so.10\n",
      "2022-04-13 17:15:52.487908: I tensorflow/stream_executor/platform/default/dso_loader.cc:49] Successfully opened dynamic library libcusparse.so.10\n",
      "2022-04-13 17:15:52.489999: I tensorflow/stream_executor/platform/default/dso_loader.cc:49] Successfully opened dynamic library libcudnn.so.7\n",
      "2022-04-13 17:15:52.490097: I tensorflow/stream_executor/cuda/cuda_gpu_executor.cc:941] successful NUMA node read from SysFS had negative value (-1), but there must be at least one NUMA node, so returning NUMA node zero\n",
      "2022-04-13 17:15:52.490216: I tensorflow/stream_executor/cuda/cuda_gpu_executor.cc:941] successful NUMA node read from SysFS had negative value (-1), but there must be at least one NUMA node, so returning NUMA node zero\n",
      "2022-04-13 17:15:52.490274: I tensorflow/core/common_runtime/gpu/gpu_device.cc:1862] Adding visible gpu devices: 0\n",
      "2022-04-13 17:15:52.490669: I tensorflow/core/platform/cpu_feature_guard.cc:142] This TensorFlow binary is optimized with oneAPI Deep Neural Network Library (oneDNN) to use the following CPU instructions in performance-critical operations:  SSE4.1 SSE4.2 AVX AVX2 FMA\n",
      "To enable them in other operations, rebuild TensorFlow with the appropriate compiler flags.\n",
      "2022-04-13 17:15:52.491652: I tensorflow/stream_executor/cuda/cuda_gpu_executor.cc:941] successful NUMA node read from SysFS had negative value (-1), but there must be at least one NUMA node, so returning NUMA node zero\n",
      "2022-04-13 17:15:52.491725: I tensorflow/core/common_runtime/gpu/gpu_device.cc:1720] Found device 0 with properties: \n",
      "pciBusID: 0000:01:00.0 name: NVIDIA GeForce RTX 2080 Ti computeCapability: 7.5\n",
      "coreClock: 1.65GHz coreCount: 68 deviceMemorySize: 10.76GiB deviceMemoryBandwidth: 573.69GiB/s\n",
      "2022-04-13 17:15:52.491749: I tensorflow/stream_executor/platform/default/dso_loader.cc:49] Successfully opened dynamic library libcudart.so.10.1\n",
      "2022-04-13 17:15:52.491768: I tensorflow/stream_executor/platform/default/dso_loader.cc:49] Successfully opened dynamic library libcublas.so.10\n",
      "2022-04-13 17:15:52.491783: I tensorflow/stream_executor/platform/default/dso_loader.cc:49] Successfully opened dynamic library libcublasLt.so.10\n",
      "2022-04-13 17:15:52.491795: I tensorflow/stream_executor/platform/default/dso_loader.cc:49] Successfully opened dynamic library libcufft.so.10\n",
      "2022-04-13 17:15:52.491806: I tensorflow/stream_executor/platform/default/dso_loader.cc:49] Successfully opened dynamic library libcurand.so.10\n",
      "2022-04-13 17:15:52.491818: I tensorflow/stream_executor/platform/default/dso_loader.cc:49] Successfully opened dynamic library libcusolver.so.10\n",
      "2022-04-13 17:15:52.491831: I tensorflow/stream_executor/platform/default/dso_loader.cc:49] Successfully opened dynamic library libcusparse.so.10\n",
      "2022-04-13 17:15:52.491843: I tensorflow/stream_executor/platform/default/dso_loader.cc:49] Successfully opened dynamic library libcudnn.so.7\n",
      "2022-04-13 17:15:52.491878: I tensorflow/stream_executor/cuda/cuda_gpu_executor.cc:941] successful NUMA node read from SysFS had negative value (-1), but there must be at least one NUMA node, so returning NUMA node zero\n",
      "2022-04-13 17:15:52.491964: I tensorflow/stream_executor/cuda/cuda_gpu_executor.cc:941] successful NUMA node read from SysFS had negative value (-1), but there must be at least one NUMA node, so returning NUMA node zero\n",
      "2022-04-13 17:15:52.492021: I tensorflow/core/common_runtime/gpu/gpu_device.cc:1862] Adding visible gpu devices: 0\n",
      "2022-04-13 17:15:52.492044: I tensorflow/stream_executor/platform/default/dso_loader.cc:49] Successfully opened dynamic library libcudart.so.10.1\n",
      "2022-04-13 17:15:52.817023: I tensorflow/core/common_runtime/gpu/gpu_device.cc:1261] Device interconnect StreamExecutor with strength 1 edge matrix:\n",
      "2022-04-13 17:15:52.817040: I tensorflow/core/common_runtime/gpu/gpu_device.cc:1267]      0 \n",
      "2022-04-13 17:15:52.817043: I tensorflow/core/common_runtime/gpu/gpu_device.cc:1280] 0:   N \n",
      "2022-04-13 17:15:52.817157: I tensorflow/stream_executor/cuda/cuda_gpu_executor.cc:941] successful NUMA node read from SysFS had negative value (-1), but there must be at least one NUMA node, so returning NUMA node zero\n",
      "2022-04-13 17:15:52.817290: I tensorflow/stream_executor/cuda/cuda_gpu_executor.cc:941] successful NUMA node read from SysFS had negative value (-1), but there must be at least one NUMA node, so returning NUMA node zero\n",
      "2022-04-13 17:15:52.817381: I tensorflow/stream_executor/cuda/cuda_gpu_executor.cc:941] successful NUMA node read from SysFS had negative value (-1), but there must be at least one NUMA node, so returning NUMA node zero\n",
      "2022-04-13 17:15:52.817455: I tensorflow/core/common_runtime/gpu/gpu_device.cc:1406] Created TensorFlow device (/job:localhost/replica:0/task:0/device:GPU:0 with 3072 MB memory) -> physical GPU (device: 0, name: NVIDIA GeForce RTX 2080 Ti, pci bus id: 0000:01:00.0, compute capability: 7.5)\n",
      "2022-04-13 17:15:52.817658: I tensorflow/compiler/jit/xla_gpu_device.cc:99] Not creating XLA devices, tf_xla_enable_xla_devices not set\n"
     ]
    }
   ],
   "source": [
    "\n",
    "# This is for finding best alpha value\n",
    "# 1.5 seems to a be a good value\n",
    "import matplotlib.pyplot as plt\n",
    "\n",
    "import tensorflow as tf\n",
    "\n",
    "gpus = tf.config.list_physical_devices('GPU')\n",
    "if gpus:\n",
    "  # Restrict TensorFlow to only allocate 1GB of memory on the first GPU\n",
    "  try:\n",
    "    tf.config.set_logical_device_configuration(\n",
    "        gpus[0],\n",
    "        [tf.config.LogicalDeviceConfiguration(memory_limit=3072)])\n",
    "    logical_gpus = tf.config.list_logical_devices('GPU')\n",
    "    print(len(gpus), \"Physical GPUs,\", len(logical_gpus), \"Logical GPUs\")\n",
    "  except RuntimeError as e:\n",
    "    # Virtual devices must be set before GPUs have been initialized\n",
    "    print(e)"
   ]
  },
  {
   "cell_type": "code",
   "execution_count": 6,
   "metadata": {},
   "outputs": [],
   "source": [
    "\n",
    "''' Creating the neural network '''\n",
    "optimizer = tf.keras.optimizers.Adam(epsilon=0.00005)\n",
    "def nn():\n",
    "  nn = tf.keras.models.Sequential()\n",
    "  nn.add(tf.keras.layers.Dense(400, activation='relu'))\n",
    "  nn.add(tf.keras.layers.Dense(320, activation='relu'))\n",
    "  nn.add(tf.keras.layers.Dense(280, activation='relu'))\n",
    "  nn.add(tf.keras.layers.Dense(200, activation='relu'))\n",
    "  nn.add(tf.keras.layers.Dense(150, activation='relu'))\n",
    "  nn.add(tf.keras.layers.Dense(80, activation='relu'))\n",
    "  nn.add(tf.keras.layers.Dense(30, activation='relu'))\n",
    "  nn.add(tf.keras.layers.Dense(1))\n",
    "  nn.compile(optimizer=optimizer, loss=tf.keras.losses.MeanAbsoluteError())\n",
    "  return nn\n",
    "  \n",
    "nn_regr = tf.keras.wrappers.scikit_learn.KerasRegressor(build_fn=nn, epochs=200, batch_size=4096, verbose=False)\n",
    "\n"
   ]
  },
  {
   "cell_type": "code",
   "execution_count": 7,
   "metadata": {},
   "outputs": [
    {
     "name": "stderr",
     "output_type": "stream",
     "text": [
      "2022-04-13 17:15:54.229082: I tensorflow/compiler/mlir/mlir_graph_optimization_pass.cc:116] None of the MLIR optimization passes are enabled (registered 2)\n",
      "2022-04-13 17:15:54.244327: I tensorflow/core/platform/profile_utils/cpu_utils.cc:112] CPU Frequency: 3601000000 Hz\n",
      "2022-04-13 17:15:54.560268: I tensorflow/stream_executor/platform/default/dso_loader.cc:49] Successfully opened dynamic library libcublas.so.10\n"
     ]
    },
    {
     "name": "stdout",
     "output_type": "stream",
     "text": [
      "-45.205248514811196\n"
     ]
    }
   ],
   "source": [
    "\n",
    "''' The lower the score, the better result '''\n",
    "print(np.mean(cross_val_score(nn_regr, train_X, train_y, cv=3, n_jobs=1)))"
   ]
  },
  {
   "cell_type": "code",
   "execution_count": 8,
   "metadata": {},
   "outputs": [
    {
     "data": {
      "text/plain": [
       "<tensorflow.python.keras.callbacks.History at 0x7f6047bf92b0>"
      ]
     },
     "execution_count": 8,
     "metadata": {},
     "output_type": "execute_result"
    }
   ],
   "source": [
    "\n",
    "nn_regr.fit(train_X, train_y)"
   ]
  },
  {
   "cell_type": "code",
   "execution_count": 1,
   "metadata": {},
   "outputs": [
    {
     "ename": "NameError",
     "evalue": "name 'pd' is not defined",
     "output_type": "error",
     "traceback": [
      "\u001b[0;31m---------------------------------------------------------------------------\u001b[0m",
      "\u001b[0;31mNameError\u001b[0m                                 Traceback (most recent call last)",
      "\u001b[1;32m/home/wthunder/projects/DataMiningComp/main_keras_best.ipynb Cell 8'\u001b[0m in \u001b[0;36m<cell line: 1>\u001b[0;34m()\u001b[0m\n\u001b[0;32m----> <a href='vscode-notebook-cell:/home/wthunder/projects/DataMiningComp/main_keras_best.ipynb#ch0000007?line=0'>1</a>\u001b[0m test_df \u001b[39m=\u001b[39m pd\u001b[39m.\u001b[39mread_csv(\u001b[39m'\u001b[39m\u001b[39mtest.csv\u001b[39m\u001b[39m'\u001b[39m)\n\u001b[1;32m      <a href='vscode-notebook-cell:/home/wthunder/projects/DataMiningComp/main_keras_best.ipynb#ch0000007?line=1'>2</a>\u001b[0m test_ids, test_X \u001b[39m=\u001b[39m [], []\n\u001b[1;32m      <a href='vscode-notebook-cell:/home/wthunder/projects/DataMiningComp/main_keras_best.ipynb#ch0000007?line=2'>3</a>\u001b[0m \u001b[39mfor\u001b[39;00m (idx, row) \u001b[39min\u001b[39;00m test_df\u001b[39m.\u001b[39miterrows():\n",
      "\u001b[0;31mNameError\u001b[0m: name 'pd' is not defined"
     ]
    }
   ],
   "source": [
    "test_df = pd.read_csv('test.csv')\n",
    "test_ids, test_X = [], []\n",
    "for (idx, row) in test_df.iterrows():\n",
    "  feature = create_feature(row, test_df)\n",
    "  test_ids.append(row.id)\n",
    "  test_X.append(feature)\n",
    "test_y = nn_regr.predict(test_X)\n",
    "\n",
    "print(test_y)\n",
    "\n",
    "output_df = pd.DataFrame()\n",
    "output_df['Id'] = test_ids\n",
    "output_df['Predicted'] = test_y\n",
    "output_df.to_csv('mlpregressor_prediction.csv', index=False)\n",
    "\n"
   ]
  },
  {
   "cell_type": "code",
   "execution_count": null,
   "metadata": {},
   "outputs": [],
   "source": [
    "\n",
    "''' Creating the neural network '''\n",
    "callback = tf.keras.callbacks.EarlyStopping(monitor='loss', patience=3)\n",
    "optimizer = tf.keras.optimizers.Adam()\n",
    "def nn():\n",
    "  nn = tf.keras.models.Sequential()\n",
    "  nn.add(tf.keras.layers.Dense(180, activation='relu'))\n",
    "  nn.add(tf.keras.layers.Dense(80, activation='relu'))\n",
    "  nn.add(tf.keras.layers.Dense(1))\n",
    "  nn.compile(optimizer=optimizer, loss=tf.keras.losses.MeanAbsoluteError())\n",
    "  return nn\n",
    "\n"
   ]
  }
 ],
 "metadata": {
  "interpreter": {
   "hash": "b8c7240f1d94b58b7ad391c7d1cda0d4e35465f6e237b27e5c4b4739ef98f4ab"
  },
  "kernelspec": {
   "display_name": "Python 3.9.7 ('base')",
   "language": "python",
   "name": "python3"
  },
  "language_info": {
   "codemirror_mode": {
    "name": "ipython",
    "version": 3
   },
   "file_extension": ".py",
   "mimetype": "text/x-python",
   "name": "python",
   "nbconvert_exporter": "python",
   "pygments_lexer": "ipython3",
   "version": "3.9.12"
  },
  "orig_nbformat": 4
 },
 "nbformat": 4,
 "nbformat_minor": 2
}
