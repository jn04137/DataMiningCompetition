{
   "cells": [
      {
         "cell_type": "code",
         "execution_count": 2,
         "metadata": {},
         "outputs": [],
         "source": [
            "import pandas as pd\n",
            "\n",
            "def set_parser(data):\n",
            "  try:\n",
            "    j1 = list(data.strip('*}*{').split(','))\n",
            "    return j1\n",
            "  except:\n",
            "    return 'problem'\n",
            "\n",
            "df = pd.read_csv('train.csv', converters={'amenities':set_parser}, header=0)\n",
            "# df = pd.read_csv('train.csv')\n",
            "\n",
            "y = df[['price']]\n",
            "\n",
            "\n",
            "# Can make additional columns attributes for amenities\n",
            "#df[['amenities']]"
         ]
      },
      {
         "cell_type": "code",
         "execution_count": 3,
         "metadata": {},
         "outputs": [
            {
               "ename": "NameError",
               "evalue": "name 'np' is not defined",
               "output_type": "error",
               "traceback": [
                  "\u001b[0;31m---------------------------------------------------------------------------\u001b[0m",
                  "\u001b[0;31mNameError\u001b[0m                                 Traceback (most recent call last)",
                  "\u001b[1;32m/home/wthunder/projects/DataMiningComp/randomforest.ipynb Cell 2'\u001b[0m in \u001b[0;36m<cell line: 6>\u001b[0;34m()\u001b[0m\n\u001b[1;32m      <a href='vscode-notebook-cell:/home/wthunder/projects/DataMiningComp/randomforest.ipynb#ch0000001?line=2'>3</a>\u001b[0m \u001b[39mfor\u001b[39;00m B \u001b[39min\u001b[39;00m df[[\u001b[39m'\u001b[39m\u001b[39mamenities\u001b[39m\u001b[39m'\u001b[39m]]\u001b[39m.\u001b[39mvalues:\n\u001b[1;32m      <a href='vscode-notebook-cell:/home/wthunder/projects/DataMiningComp/randomforest.ipynb#ch0000001?line=3'>4</a>\u001b[0m   setA\u001b[39m.\u001b[39mappend(B)\n\u001b[0;32m----> <a href='vscode-notebook-cell:/home/wthunder/projects/DataMiningComp/randomforest.ipynb#ch0000001?line=5'>6</a>\u001b[0m \u001b[39mprint\u001b[39m(np\u001b[39m.\u001b[39munique(setA))\n",
                  "\u001b[0;31mNameError\u001b[0m: name 'np' is not defined"
               ]
            }
         ],
         "source": [
            "setA = []\n",
            "count = 0\n",
            "for B in df[['amenities']].values:\n",
            "  setA.append(B)\n",
            "\n",
            "print(np.unique(setA))"
         ]
      },
      {
         "cell_type": "code",
         "execution_count": null,
         "metadata": {},
         "outputs": [
            {
               "data": {
                  "text/plain": [
                     "Index(['id', 'name', 'summary', 'space', 'description', 'experiences_offered',\n",
                     "       'neighborhood_overview', 'notes', 'transit', 'access', 'interaction',\n",
                     "       'house_rules', 'host_id', 'host_name', 'host_since', 'host_location',\n",
                     "       'host_about', 'host_response_time', 'host_response_rate',\n",
                     "       'host_acceptance_rate', 'host_is_superhost', 'host_neighbourhood',\n",
                     "       'host_listings_count', 'host_verifications', 'host_has_profile_pic',\n",
                     "       'host_identity_verified', 'neighbourhood_cleansed',\n",
                     "       'neighbourhood_group_cleansed', 'city', 'state', 'zipcode', 'market',\n",
                     "       'country_code', 'country', 'property_type', 'room_type', 'accommodates',\n",
                     "       'bathrooms', 'bedrooms', 'beds', 'bed_type', 'amenities', 'square_feet',\n",
                     "       'price', 'guests_included', 'extra_people', 'minimum_nights',\n",
                     "       'maximum_nights', 'number_of_reviews', 'first_review', 'last_review',\n",
                     "       'review_scores_rating', 'review_scores_accuracy',\n",
                     "       'review_scores_cleanliness', 'review_scores_checkin',\n",
                     "       'review_scores_communication', 'review_scores_location',\n",
                     "       'review_scores_value', 'instant_bookable', 'is_business_travel_ready',\n",
                     "       'cancellation_policy', 'require_guest_profile_picture',\n",
                     "       'require_guest_phone_verification', 'calculated_host_listings_count',\n",
                     "       'reviews_per_month'],\n",
                     "      dtype='object')"
                  ]
               },
               "execution_count": 24,
               "metadata": {},
               "output_type": "execute_result"
            }
         ],
         "source": [
            "df.columns"
         ]
      },
      {
         "cell_type": "code",
         "execution_count": null,
         "metadata": {},
         "outputs": [],
         "source": [
            "df.to_csv('train_w_amenities.csv')"
         ]
      },
      {
         "cell_type": "code",
         "execution_count": 19,
         "metadata": {},
         "outputs": [
            {
               "name": "stdout",
               "output_type": "stream",
               "text": [
                  "5\n",
                  "23477 23477\n"
               ]
            }
         ],
         "source": [
            "import json\n",
            "from math import isnan\n",
            "from sklearn.preprocessing import StandardScaler, Normalizer\n",
            "\n",
            "def to_float(s):\n",
            "    try:\n",
            "        ret = float(s)\n",
            "    except:\n",
            "        ret = -1\n",
            "    if isnan(ret):\n",
            "        ret = -1\n",
            "    return ret\n",
            "\n",
            "def to_float_avg(s, name_of_col, data_frame):\n",
            "    avg = data_frame[name_of_col].mean()\n",
            "    try:\n",
            "        ret = float(s)\n",
            "    except:\n",
            "        ret = avg\n",
            "    if isnan(ret):\n",
            "        ret = avg\n",
            "    return ret\n",
            "\n",
            "def to_int(s):\n",
            "    try:\n",
            "        ret = int(s)\n",
            "    except:\n",
            "        ret = -1\n",
            "    return ret\n",
            "\n",
            "def to_int_avg(s, name_of_col, data_frame):\n",
            "    avg = data_frame[name_of_col].mean()\n",
            "    try:\n",
            "        ret = int(s)\n",
            "    except:\n",
            "        ret = avg\n",
            "    return ret\n",
            "\n",
            "def json_parser(data):\n",
            "    j1 = json.loads(data)\n",
            "    return j1\n",
            "\n",
            "categories = [x for x in list(set(df['neighbourhood_group_cleansed'])) if type(x) is str]\n",
            "state_categories = [x for x in list(set(df['state'])) if type(x) is str]\n",
            "state_categories = [x for x in list(set(df['state'])) if type(x) is str]\n",
            "room_categories = [x for x in list(set(df['room_type'])) if type(x) is str]\n",
            "super_host_categories = [x for x in list(set(df['host_is_superhost'])) if type(x) is str]\n",
            "bed_type_categories = [x for x in list(set(df['bed_type'])) if type(x) is str]\n",
            "cancellation_policy_categories = [x for x in list(set(df['cancellation_policy'])) if type(x) is str]\n",
            "property_type_categories = [x for x in list(set(df['property_type'])) if type(x) is str]\n",
            "instant_bookable_categories = [x for x in list(set(df['instant_bookable'])) if type(x) is str]\n",
            "instant_bookable_categories = [x for x in list(set(df['instant_bookable'])) if type(x) is str]\n",
            "is_business_travel_categories = [x for x in list(set(df['is_business_travel_ready'])) if type(x) is str]\n",
            "host_verification_categories = [x for x in list(set(df['host_identity_verified'])) if type(x) is str]\n",
            "print(len(categories))\n",
            "\n",
            "def create_feature(row, data_frame):\n",
            "    guest_num = to_int(row.guests_included)\n",
            "    guest_cap = to_float(row.extra_people)\n",
            "    bedrooms = to_int(row.bedrooms)\n",
            "    bathrooms = to_float(row.bathrooms)\n",
            "    beds = to_int(row.beds)\n",
            "    review = to_float(row.review_scores_rating)\n",
            "    review_scores_location = to_float(row.review_scores_location)\n",
            "    cleanliness_review = to_int(row.review_scores_cleanliness)\n",
            "    number_of_reviews = to_int(row.number_of_reviews)\n",
            "    host_listings = to_int(row.calculated_host_listings_count)\n",
            "    accommodates = to_int(row.accommodates)\n",
            "    amenities = to_int(row.amenities)\n",
            "    minimum_nights = to_int(row.minimum_nights)\n",
            "    reviews_per_month = to_float(row.reviews_per_month)\n",
            "    reviews_value = to_float(row.review_scores_value)\n",
            "    review_accuracy = to_float(row.review_scores_accuracy)\n",
            "    review_checkin = to_float(row.review_scores_checkin)\n",
            "    review_communication = to_float(row.review_scores_communication)\n",
            "    one_hot = [int(row.neighbourhood_group_cleansed == category) for category in categories]\n",
            "    two_hot = [int(row.state == state_category) for state_category in state_categories]\n",
            "    three_hot = [int(row.room_type == room_category) for room_category in room_categories]\n",
            "    four_hot = [int(row.host_is_superhost == super_host_category) for super_host_category in super_host_categories]\n",
            "    five_hot = [int(row.bed_type == bed_type_category) for bed_type_category in bed_type_categories]\n",
            "    six_hot = [int(row.cancellation_policy == cancelation_policy_category) for cancelation_policy_category in cancellation_policy_categories]\n",
            "    seven_hot = [int(row.property_type == property_type_category) for property_type_category in property_type_categories]\n",
            "    eight_hot = [int(row.instant_bookable == instant_bookable_category) for instant_bookable_category in instant_bookable_categories]\n",
            "    nine_hot = [int(row.is_business_travel_ready == is_business_travel_category) for is_business_travel_category in is_business_travel_categories]\n",
            "    ten_hot = [int(row.host_identity_verified == host_identity_verified_category) for host_identity_verified_category in host_verification_categories]\n",
            "    \n",
            "    return [\n",
            "        guest_num, \n",
            "        guest_cap, \n",
            "        bathrooms,\n",
            "        accommodates, \n",
            "        beds, \n",
            "        minimum_nights,\n",
            "        bedrooms,\n",
            "        review, \n",
            "        number_of_reviews, \n",
            "        host_listings,\n",
            "        review_scores_location,\n",
            "        reviews_per_month, \n",
            "        reviews_value, \n",
            "        cleanliness_review,\n",
            "        review_accuracy,\n",
            "        review_checkin,\n",
            "        amenities\n",
            "        ] + one_hot + three_hot + four_hot + seven_hot + eight_hot + nine_hot + ten_hot\n",
            "\n",
            "\n",
            "scaler = StandardScaler()\n",
            "\n",
            "train_X, train_y = [], []\n",
            "\n",
            "for (idx, row) in df.iterrows():\n",
            "    price = to_float(row.price)\n",
            "    feature = create_feature(row, df)\n",
            "    #if row.accommodates == -1:\n",
            "    #    continue\n",
            "    #elif row.room_type == -1:\n",
            "    #    continue\n",
            "\n",
            "    train_X.append(feature)\n",
            "    train_y.append(price)\n",
            "\n",
            "# train_X = scaler.fit_transform(train_X)\n",
            "\n",
            "print(len(train_X), len(train_y))"
         ]
      },
      {
         "cell_type": "code",
         "execution_count": 5,
         "metadata": {},
         "outputs": [],
         "source": [
            "from sklearn.neural_network import MLPRegressor\n",
            "from sklearn.ensemble import RandomForestRegressor\n",
            "from sklearn.preprocessing import StandardScaler\n",
            "from sklearn.model_selection import train_test_split\n",
            "from sklearn.model_selection import cross_val_score\n",
            "import numpy as np\n",
            "\n"
         ]
      },
      {
         "cell_type": "code",
         "execution_count": null,
         "metadata": {},
         "outputs": [],
         "source": [
            "\n",
            "# This is for finding best alpha value\n",
            "# 1.5 seems to a be a good value\n",
            "import matplotlib.pyplot as plt\n",
            "\n",
            "scores = []\n",
            "alphas = []\n",
            "for i in np.linspace(1.5, 4.0, 20):\n",
            "  print(i)\n",
            "  score = cross_val_score(RandomForestRegressor(max_depth=5), train_X, train_y, cv=3, n_jobs=8)\n",
            "  scores.append(np.mean(score))\n",
            "  alphas.append(i) \n",
            "plt.plot(alphas, scores)\n",
            "plt.show()"
         ]
      },
      {
         "cell_type": "code",
         "execution_count": 24,
         "metadata": {},
         "outputs": [
            {
               "name": "stdout",
               "output_type": "stream",
               "text": [
                  "0.4935597728722172\n"
               ]
            }
         ],
         "source": [
            "\n",
            "\n",
            "# This cell is used for cross validation of the model\n",
            "\n",
            "#scaler_X = StandardScaler().fit(train_X)\n",
            "#scaler_X.transform(train_X)\n",
            "\n",
            "# With standardized X\n",
            "# Setting up the neural net classifier\n",
            "regr = RandomForestRegressor(max_depth=129, random_state=1)\n",
            "\n",
            "print(np.mean(cross_val_score(regr, train_X, train_y, cv=3, n_jobs=12)))\n"
         ]
      },
      {
         "cell_type": "code",
         "execution_count": 25,
         "metadata": {},
         "outputs": [
            {
               "data": {
                  "text/plain": [
                     "RandomForestRegressor(max_depth=129, random_state=1)"
                  ]
               },
               "execution_count": 25,
               "metadata": {},
               "output_type": "execute_result"
            }
         ],
         "source": [
            "regr.fit(train_X, train_y)"
         ]
      },
      {
         "cell_type": "code",
         "execution_count": 26,
         "metadata": {},
         "outputs": [
            {
               "name": "stdout",
               "output_type": "stream",
               "text": [
                  "10061 10061\n"
               ]
            },
            {
               "data": {
                  "text/html": [
                     "<div>\n",
                     "<style scoped>\n",
                     "    .dataframe tbody tr th:only-of-type {\n",
                     "        vertical-align: middle;\n",
                     "    }\n",
                     "\n",
                     "    .dataframe tbody tr th {\n",
                     "        vertical-align: top;\n",
                     "    }\n",
                     "\n",
                     "    .dataframe thead th {\n",
                     "        text-align: right;\n",
                     "    }\n",
                     "</style>\n",
                     "<table border=\"1\" class=\"dataframe\">\n",
                     "  <thead>\n",
                     "    <tr style=\"text-align: right;\">\n",
                     "      <th></th>\n",
                     "      <th>Id</th>\n",
                     "      <th>Predicted</th>\n",
                     "    </tr>\n",
                     "  </thead>\n",
                     "  <tbody>\n",
                     "    <tr>\n",
                     "      <th>0</th>\n",
                     "      <td>22267382</td>\n",
                     "      <td>146.900000</td>\n",
                     "    </tr>\n",
                     "    <tr>\n",
                     "      <th>1</th>\n",
                     "      <td>27551517</td>\n",
                     "      <td>107.874286</td>\n",
                     "    </tr>\n",
                     "    <tr>\n",
                     "      <th>2</th>\n",
                     "      <td>27016367</td>\n",
                     "      <td>709.590000</td>\n",
                     "    </tr>\n",
                     "    <tr>\n",
                     "      <th>3</th>\n",
                     "      <td>20917330</td>\n",
                     "      <td>116.490000</td>\n",
                     "    </tr>\n",
                     "    <tr>\n",
                     "      <th>4</th>\n",
                     "      <td>21531318</td>\n",
                     "      <td>84.640000</td>\n",
                     "    </tr>\n",
                     "    <tr>\n",
                     "      <th>5</th>\n",
                     "      <td>24730560</td>\n",
                     "      <td>57.350000</td>\n",
                     "    </tr>\n",
                     "    <tr>\n",
                     "      <th>6</th>\n",
                     "      <td>4332961</td>\n",
                     "      <td>221.180000</td>\n",
                     "    </tr>\n",
                     "    <tr>\n",
                     "      <th>7</th>\n",
                     "      <td>21900790</td>\n",
                     "      <td>155.683167</td>\n",
                     "    </tr>\n",
                     "    <tr>\n",
                     "      <th>8</th>\n",
                     "      <td>15898592</td>\n",
                     "      <td>56.840000</td>\n",
                     "    </tr>\n",
                     "    <tr>\n",
                     "      <th>9</th>\n",
                     "      <td>721762</td>\n",
                     "      <td>204.050000</td>\n",
                     "    </tr>\n",
                     "  </tbody>\n",
                     "</table>\n",
                     "</div>"
                  ],
                  "text/plain": [
                     "         Id   Predicted\n",
                     "0  22267382  146.900000\n",
                     "1  27551517  107.874286\n",
                     "2  27016367  709.590000\n",
                     "3  20917330  116.490000\n",
                     "4  21531318   84.640000\n",
                     "5  24730560   57.350000\n",
                     "6   4332961  221.180000\n",
                     "7  21900790  155.683167\n",
                     "8  15898592   56.840000\n",
                     "9    721762  204.050000"
                  ]
               },
               "execution_count": 26,
               "metadata": {},
               "output_type": "execute_result"
            }
         ],
         "source": [
            "test_df = pd.read_csv('test.csv')\n",
            "test_ids, test_X = [], []\n",
            "for (idx, row) in test_df.iterrows():\n",
            "  feature = create_feature(row, test_df)\n",
            "  test_ids.append(row.id)\n",
            "  test_X.append(feature)\n",
            "test_y = regr.predict(test_X)\n",
            "print(len(test_ids), len(test_X))\n",
            "\n",
            "\n",
            "output_df = pd.DataFrame()\n",
            "output_df['Id'] = test_ids\n",
            "output_df['Predicted'] = test_y\n",
            "output_df.to_csv('random_forest_prediction.csv', index=False)\n",
            "output_df.head(10)\n",
            "\n"
         ]
      }
   ],
   "metadata": {
      "interpreter": {
         "hash": "b8c7240f1d94b58b7ad391c7d1cda0d4e35465f6e237b27e5c4b4739ef98f4ab"
      },
      "kernelspec": {
         "display_name": "Python 3.9.7 ('base')",
         "language": "python",
         "name": "python3"
      },
      "language_info": {
         "codemirror_mode": {
            "name": "ipython",
            "version": 3
         },
         "file_extension": ".py",
         "mimetype": "text/x-python",
         "name": "python",
         "nbconvert_exporter": "python",
         "pygments_lexer": "ipython3",
         "version": "3.9.12"
      },
      "orig_nbformat": 4
   },
   "nbformat": 4,
   "nbformat_minor": 2
}
